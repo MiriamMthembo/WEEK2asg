{
 "cells": [
  {
   "cell_type": "code",
   "execution_count": 9,
   "metadata": {},
   "outputs": [
    {
     "data": {
      "text/plain": [
       "7"
      ]
     },
     "execution_count": 9,
     "metadata": {},
     "output_type": "execute_result"
    }
   ],
   "source": [
    "import random\n",
    "random.randint(1,11)"
   ]
  },
  {
   "cell_type": "code",
   "execution_count": 13,
   "metadata": {},
   "outputs": [
    {
     "name": "stdout",
     "output_type": "stream",
     "text": [
      "My name is mimi\n"
     ]
    }
   ],
   "source": [
    "user_name = input()\n",
    "print(\"My name is\", user_name)"
   ]
  },
  {
   "cell_type": "code",
   "execution_count": 35,
   "metadata": {},
   "outputs": [
    {
     "name": "stdout",
     "output_type": "stream",
     "text": [
      "true\n"
     ]
    }
   ],
   "source": [
    "import random\n",
    "\n",
    "x = int(input(random.randint(1,11)))\n",
    "\n",
    "if x < 7:\n",
    "    print(\"false\")\n",
    "elif x > 7:\n",
    "    print(\"false\")\n",
    "else:\n",
    "    print(\"true\")\n"
   ]
  },
  {
   "cell_type": "code",
   "execution_count": 41,
   "metadata": {},
   "outputs": [
    {
     "name": "stdout",
     "output_type": "stream",
     "text": [
      "Joke one\n"
     ]
    }
   ],
   "source": [
    "x = int(input(random.randint(1,101)))\n",
    "if x < 50:\n",
    "    print(\"Joke one\")\n",
    "elif x == 50:\n",
    "    print(\"Joke 2\")\n",
    "else:\n",
    "    print(\"Joke 3\")"
   ]
  },
  {
   "cell_type": "code",
   "execution_count": 51,
   "metadata": {},
   "outputs": [
    {
     "name": "stdout",
     "output_type": "stream",
     "text": [
      "Your favourite meal is liver rice cakewith a glass of coke\n"
     ]
    }
   ],
   "source": [
    "starter = input(\"What is your favourite starter?\")\n",
    "main_meal = input(\"What is your favourite mainmeal?\")\n",
    "dessert = input(\"What is your favourite dessert?\")\n",
    "drink = input(\"What is your favourite drink?\")\n",
    "\n",
    "print(\"Your favourite meal is\", starter, main_meal, dessert + \"with a glass of\", drink)\n"
   ]
  },
  {
   "cell_type": "code",
   "execution_count": 54,
   "metadata": {},
   "outputs": [
    {
     "name": "stdout",
     "output_type": "stream",
     "text": [
      "The bike is worth: 2000\n",
      "The bike is worth: 1800.0\n",
      "The bike is worth: 1620.0\n",
      "The bike is worth: 1458.0\n",
      "The bike is worth: 1312.2\n",
      "The bike is worth: 1180.98\n",
      "The bike is worth: 1062.882\n",
      "The bike is worth: 956.5938000000001\n"
     ]
    }
   ],
   "source": [
    "bike_price = 2000\n",
    "while bike_price > 900:\n",
    "    print(\"The bike is worth:\", bike_price)\n",
    "    bike_price*=0.9"
   ]
  },
  {
   "cell_type": "code",
   "execution_count": 61,
   "metadata": {},
   "outputs": [
    {
     "name": "stdout",
     "output_type": "stream",
     "text": [
      "30.0\n"
     ]
    }
   ],
   "source": [
    "f = float(input(\"The first number\"))\n",
    "s = float(input(\"The second number\"))\n",
    "sign = input(\" Operator choice of sign +, -, /, *, **\")\n",
    "if sign == \"+\":\n",
    "    print( f + s)\n",
    "elif sign == \"-\":\n",
    "    print(f - s)\n",
    "elif sign == \"/\":\n",
    "    print(f / s)\n",
    "elif sign == \"*\":\n",
    "    print(f * s)\n",
    "elif sign == \"**\":\n",
    "    print(f ** s)\n",
    "    \n"
   ]
  }
 ],
 "metadata": {
  "interpreter": {
   "hash": "a279d75de1c7fb928deda8b1d3281825c2cb9115f57e6cac24c2c042a4ba9ce4"
  },
  "kernelspec": {
   "display_name": "Python 3.10.2 64-bit",
   "language": "python",
   "name": "python3"
  },
  "language_info": {
   "codemirror_mode": {
    "name": "ipython",
    "version": 3
   },
   "file_extension": ".py",
   "mimetype": "text/x-python",
   "name": "python",
   "nbconvert_exporter": "python",
   "pygments_lexer": "ipython3",
   "version": "3.10.2"
  },
  "orig_nbformat": 4
 },
 "nbformat": 4,
 "nbformat_minor": 2
}
